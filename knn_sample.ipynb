{
 "metadata": {
  "language_info": {
   "codemirror_mode": {
    "name": "ipython",
    "version": 3
   },
   "file_extension": ".py",
   "mimetype": "text/x-python",
   "name": "python",
   "nbconvert_exporter": "python",
   "pygments_lexer": "ipython3",
   "version": "3.7.6-final"
  },
  "orig_nbformat": 2,
  "kernelspec": {
   "name": "python3",
   "display_name": "Python 3",
   "language": "python"
  }
 },
 "nbformat": 4,
 "nbformat_minor": 2,
 "cells": [
  {
   "cell_type": "code",
   "execution_count": 1,
   "metadata": {},
   "outputs": [],
   "source": [
    "import pandas as pd\n",
    "import seaborn as sns\n",
    "from utils import shuffle, train_test_split, min_max_normalize, confusion_matrix\n",
    "from neighbors import KNNClassifier"
   ]
  },
  {
   "cell_type": "code",
   "execution_count": 2,
   "metadata": {},
   "outputs": [],
   "source": [
    "iris = pd.read_csv('./data/Iris.csv')"
   ]
  },
  {
   "source": [
    "train, test = train_test_split(iris, train_size=0.7)\n",
    "\n",
    "x_train = train.drop('Species', axis=1)\n",
    "x_test = test.drop('Species', axis=1)\n",
    "\n",
    "y_train = train['Species']\n",
    "y_test = test['Species']\n",
    "\n",
    "\n",
    "# if use the entire dataset, to generate the min and max values, will be 'cheating on the game'. \n",
    "# You need to normalize test using train min and max. This is also valid for new entries in production\n",
    "x_train, minmax = min_max_normalize(x_train)\n",
    "x_test, _ = min_max_normalize(x_test)"
   ],
   "cell_type": "code",
   "metadata": {},
   "execution_count": 3,
   "outputs": []
  },
  {
   "cell_type": "code",
   "execution_count": 4,
   "metadata": {},
   "outputs": [
    {
     "output_type": "execute_result",
     "data": {
      "text/plain": [
       "               Id  SepalLengthCm  SepalWidthCm  PetalLengthCm  PetalWidthCm\n",
       "count  105.000000     105.000000    105.000000     105.000000    105.000000\n",
       "mean     0.515756       0.431746      0.439286       0.493233      0.468254\n",
       "std      0.296213       0.235766      0.192857       0.307945      0.314710\n",
       "min      0.000000       0.000000      0.000000       0.000000      0.000000\n",
       "25%      0.268456       0.222222      0.333333       0.105263      0.125000\n",
       "50%      0.536913       0.416667      0.416667       0.578947      0.500000\n",
       "75%      0.758389       0.583333      0.583333       0.719298      0.708333\n",
       "max      1.000000       1.000000      1.000000       1.000000      1.000000"
      ],
      "text/html": "<div>\n<style scoped>\n    .dataframe tbody tr th:only-of-type {\n        vertical-align: middle;\n    }\n\n    .dataframe tbody tr th {\n        vertical-align: top;\n    }\n\n    .dataframe thead th {\n        text-align: right;\n    }\n</style>\n<table border=\"1\" class=\"dataframe\">\n  <thead>\n    <tr style=\"text-align: right;\">\n      <th></th>\n      <th>Id</th>\n      <th>SepalLengthCm</th>\n      <th>SepalWidthCm</th>\n      <th>PetalLengthCm</th>\n      <th>PetalWidthCm</th>\n    </tr>\n  </thead>\n  <tbody>\n    <tr>\n      <th>count</th>\n      <td>105.000000</td>\n      <td>105.000000</td>\n      <td>105.000000</td>\n      <td>105.000000</td>\n      <td>105.000000</td>\n    </tr>\n    <tr>\n      <th>mean</th>\n      <td>0.515756</td>\n      <td>0.431746</td>\n      <td>0.439286</td>\n      <td>0.493233</td>\n      <td>0.468254</td>\n    </tr>\n    <tr>\n      <th>std</th>\n      <td>0.296213</td>\n      <td>0.235766</td>\n      <td>0.192857</td>\n      <td>0.307945</td>\n      <td>0.314710</td>\n    </tr>\n    <tr>\n      <th>min</th>\n      <td>0.000000</td>\n      <td>0.000000</td>\n      <td>0.000000</td>\n      <td>0.000000</td>\n      <td>0.000000</td>\n    </tr>\n    <tr>\n      <th>25%</th>\n      <td>0.268456</td>\n      <td>0.222222</td>\n      <td>0.333333</td>\n      <td>0.105263</td>\n      <td>0.125000</td>\n    </tr>\n    <tr>\n      <th>50%</th>\n      <td>0.536913</td>\n      <td>0.416667</td>\n      <td>0.416667</td>\n      <td>0.578947</td>\n      <td>0.500000</td>\n    </tr>\n    <tr>\n      <th>75%</th>\n      <td>0.758389</td>\n      <td>0.583333</td>\n      <td>0.583333</td>\n      <td>0.719298</td>\n      <td>0.708333</td>\n    </tr>\n    <tr>\n      <th>max</th>\n      <td>1.000000</td>\n      <td>1.000000</td>\n      <td>1.000000</td>\n      <td>1.000000</td>\n      <td>1.000000</td>\n    </tr>\n  </tbody>\n</table>\n</div>"
     },
     "metadata": {},
     "execution_count": 4
    }
   ],
   "source": [
    "x_train.describe()"
   ]
  },
  {
   "cell_type": "code",
   "execution_count": 5,
   "metadata": {},
   "outputs": [],
   "source": [
    "knn = KNNClassifier(k=5)\n",
    "knn.fit(x_train, y_train)"
   ]
  },
  {
   "cell_type": "code",
   "execution_count": 6,
   "metadata": {},
   "outputs": [],
   "source": [
    "y_pred = knn.predict(x_test)"
   ]
  },
  {
   "cell_type": "code",
   "execution_count": null,
   "metadata": {},
   "outputs": [],
   "source": []
  }
 ]
}